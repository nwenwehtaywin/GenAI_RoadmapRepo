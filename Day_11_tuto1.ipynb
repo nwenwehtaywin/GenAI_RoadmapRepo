{
 "cells": [
  {
   "cell_type": "code",
   "execution_count": 1,
   "metadata": {},
   "outputs": [],
   "source": [
    "import getpass\n",
    "import os\n",
    "\n",
    "os.environ[\"GROQ_API_KEY\"] = getpass.getpass()\n"
   ]
  },
  {
   "cell_type": "code",
   "execution_count": 2,
   "metadata": {},
   "outputs": [],
   "source": [
    "from langchain_groq import ChatGroq\n",
    "model = ChatGroq(model=\"llama3-8b-8192\")"
   ]
  },
  {
   "cell_type": "code",
   "execution_count": 3,
   "metadata": {},
   "outputs": [
    {
     "data": {
      "text/plain": [
       "ChatGroq(client=<groq.resources.chat.completions.Completions object at 0x000002A63D4595E0>, async_client=<groq.resources.chat.completions.AsyncCompletions object at 0x000002A63D45A060>, model_name='llama3-8b-8192', model_kwargs={}, groq_api_key=SecretStr('**********'))"
      ]
     },
     "execution_count": 3,
     "metadata": {},
     "output_type": "execute_result"
    }
   ],
   "source": [
    "model"
   ]
  },
  {
   "cell_type": "code",
   "execution_count": 10,
   "metadata": {},
   "outputs": [
    {
     "data": {
      "text/plain": [
       "AIMessage(content='! (annyeonghaseyo!)', additional_kwargs={}, response_metadata={'token_usage': {'completion_tokens': 10, 'prompt_tokens': 25, 'total_tokens': 35, 'completion_time': 0.008333333, 'prompt_time': 0.000982945, 'queue_time': 0.012571124999999999, 'total_time': 0.009316278}, 'model_name': 'llama3-8b-8192', 'system_fingerprint': 'fp_179b0f92c9', 'finish_reason': 'stop', 'logprobs': None}, id='run-4781ab52-5c9e-4ab6-8f3d-1ce36c81ab47-0', usage_metadata={'input_tokens': 25, 'output_tokens': 10, 'total_tokens': 35})"
      ]
     },
     "execution_count": 10,
     "metadata": {},
     "output_type": "execute_result"
    }
   ],
   "source": [
    "from langchain_core.messages import HumanMessage, SystemMessage\n",
    "\n",
    "messages = [\n",
    "    SystemMessage(content=\"Translate the following from English into Korean.\"),\n",
    "    HumanMessage(content=\"hi!\"),\n",
    "]\n",
    "\n",
    "model.invoke(messages)"
   ]
  },
  {
   "cell_type": "code",
   "execution_count": 11,
   "metadata": {},
   "outputs": [],
   "source": [
    "from langchain_core.output_parsers import StrOutputParser\n",
    "parser = StrOutputParser()"
   ]
  },
  {
   "cell_type": "code",
   "execution_count": 12,
   "metadata": {},
   "outputs": [
    {
     "data": {
      "text/plain": [
       "'! (annyeonghaseyo!)'"
      ]
     },
     "execution_count": 12,
     "metadata": {},
     "output_type": "execute_result"
    }
   ],
   "source": [
    "result = model.invoke(messages)\n",
    "parser.invoke(result)"
   ]
  },
  {
   "cell_type": "code",
   "execution_count": 13,
   "metadata": {},
   "outputs": [
    {
     "data": {
      "text/plain": [
       "'! (annyeonghaseyo!)'"
      ]
     },
     "execution_count": 13,
     "metadata": {},
     "output_type": "execute_result"
    }
   ],
   "source": [
    "chain = model | parser\n",
    "chain.invoke(messages)   "
   ]
  },
  {
   "cell_type": "code",
   "execution_count": 14,
   "metadata": {},
   "outputs": [
    {
     "data": {
      "text/plain": [
       "ChatPromptValue(messages=[SystemMessage(content='Translate the following into korean', additional_kwargs={}, response_metadata={}), HumanMessage(content='hi,how are you? what are you doing!', additional_kwargs={}, response_metadata={})])"
      ]
     },
     "execution_count": 14,
     "metadata": {},
     "output_type": "execute_result"
    }
   ],
   "source": [
    "from langchain_core.prompts import ChatPromptTemplate\n",
    "prompt_template = ChatPromptTemplate.from_messages(\n",
    "    [(\"system\", \"Translate the following into {lang}\"), (\"user\", \"{input}\")]\n",
    ")\n",
    "result = prompt_template.invoke({\"lang\": \"korean\", \"input\": \"hi,how are you? what are you doing!\"})\n",
    "result\n"
   ]
  },
  {
   "cell_type": "code",
   "execution_count": 15,
   "metadata": {},
   "outputs": [
    {
     "data": {
      "text/plain": [
       "[SystemMessage(content='Translate the following into korean', additional_kwargs={}, response_metadata={}),\n",
       " HumanMessage(content='hi,how are you? what are you doing!', additional_kwargs={}, response_metadata={})]"
      ]
     },
     "execution_count": 15,
     "metadata": {},
     "output_type": "execute_result"
    }
   ],
   "source": [
    "result.to_messages()"
   ]
  },
  {
   "cell_type": "code",
   "execution_count": 16,
   "metadata": {},
   "outputs": [],
   "source": [
    "chain = prompt_template | model | parser"
   ]
  },
  {
   "cell_type": "code",
   "execution_count": 20,
   "metadata": {},
   "outputs": [
    {
     "data": {
      "text/plain": [
       "'Bonjour, comment vas-tu ?'"
      ]
     },
     "execution_count": 20,
     "metadata": {},
     "output_type": "execute_result"
    }
   ],
   "source": [
    "chain.invoke({\"lang\": \"french\", \"input\": \"hi, how are you?\"})"
   ]
  },
  {
   "cell_type": "code",
   "execution_count": 21,
   "metadata": {},
   "outputs": [
    {
     "name": "stdout",
     "output_type": "stream",
     "text": [
      "Bonjour !\n",
      "The translation of \"How are you?\" into French is:\n",
      "\n",
      "Comment vas-tu?\n",
      "\n",
      "(Note: The formal way to ask \"How are you?\" is: Comment allez-vous?)\n",
      "Here is the translation:\n",
      "\n",
      "Comment puis-je apprendre le français?\n",
      "\n",
      "Here's a breakdown of the translation:\n",
      "\n",
      "* \"How\" is translated to \"Comment\"\n",
      "* \"can\" is implied in the sentence, so it's not necessary to translate it\n",
      "* \"I\" is translated to \"je\"\n",
      "* \"learn\" is translated to \"apprendre\"\n",
      "* \"French\" is translated to \"le français\" (note that \"le\" is the masculine article, but \"français\" is an uncountable noun, so the article is used in this case)\n",
      "\n",
      "If you're looking for ways to learn French, here are a few suggestions:\n",
      "\n",
      "* Take a course or get a tutor\n",
      "* Use language learning apps like Duolingo or Babbel\n",
      "* Listen to French music and try to sing along\n",
      "* Watch French movies or TV shows with English subtitles\n",
      "* Practice speaking with a language exchange partner\n",
      "* Read French books or articles\n",
      "\n",
      "I hope this helps!\n"
     ]
    }
   ],
   "source": [
    "text=input(\"Enter text you wanna tranlate\")\n",
    "while text != 'exit':\n",
    "    print(chain.invoke({\"lang\": \"french\", \"input\": text}))\n",
    "    text=input(\"Enter text you wanna tranlate\")"
   ]
  },
  {
   "cell_type": "code",
   "execution_count": null,
   "metadata": {},
   "outputs": [],
   "source": []
  }
 ],
 "metadata": {
  "kernelspec": {
   "display_name": "aiproject",
   "language": "python",
   "name": "python3"
  },
  "language_info": {
   "codemirror_mode": {
    "name": "ipython",
    "version": 3
   },
   "file_extension": ".py",
   "mimetype": "text/x-python",
   "name": "python",
   "nbconvert_exporter": "python",
   "pygments_lexer": "ipython3",
   "version": "3.12.3"
  }
 },
 "nbformat": 4,
 "nbformat_minor": 2
}
